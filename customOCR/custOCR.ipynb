{
 "cells": [
  {
   "cell_type": "code",
   "execution_count": 3,
   "id": "0e32a2ff-4a99-419d-8b12-427f0819de6b",
   "metadata": {},
   "outputs": [],
   "source": [
    "import tensorflow as tf\n",
    "import numpy as np\n",
    "import zipfile\n",
    "import pandas as pd\n",
    "import matplotlib.pyplot as plt\n",
    "import seaborn as sns\n",
    "from sklearn.preprocessing import LabelBinarizer\n",
    "from sklearn.model_selection import train_test_split\n",
    "from sklearn.metrics import classification_report\n",
    "import cv2"
   ]
  },
  {
   "cell_type": "code",
   "execution_count": 4,
   "id": "a263a56d-ee4e-4705-8835-a557996a5336",
   "metadata": {},
   "outputs": [],
   "source": [
    "from tensorflow.keras.datasets import mnist"
   ]
  },
  {
   "cell_type": "code",
   "execution_count": 5,
   "id": "8fb5fc41-45b7-481f-baa7-9de6259ea8fc",
   "metadata": {},
   "outputs": [
    {
     "name": "stdout",
     "output_type": "stream",
     "text": [
      "(60000, 28, 28) (10000, 28, 28)\n",
      "(60000,) (10000,)\n"
     ]
    }
   ],
   "source": [
    "(train_data,train_labels), (test_data,test_labels) = mnist.load_data()\n",
    "print(train_data.shape, test_data.shape)\n",
    "print(train_labels.shape,test_labels.shape)"
   ]
  },
  {
   "cell_type": "code",
   "execution_count": 6,
   "id": "8fe0ac6d-db0e-4cff-95e0-53293511d5e1",
   "metadata": {},
   "outputs": [
    {
     "data": {
      "text/plain": [
       "(70000,)"
      ]
     },
     "execution_count": 6,
     "metadata": {},
     "output_type": "execute_result"
    }
   ],
   "source": [
    "digits_data = np.vstack([train_data,test_data])\n",
    "digits_label = np.hstack([train_labels,test_labels])\n",
    "\n",
    "digits_data.shape\n",
    "digits_label.shape\n"
   ]
  },
  {
   "cell_type": "code",
   "execution_count": 7,
   "metadata": {},
   "outputs": [
    {
     "data": {
      "text/plain": [
       "<Axes: ylabel='count'>"
      ]
     },
     "execution_count": 7,
     "metadata": {},
     "output_type": "execute_result"
    },
    {
     "data": {
      "image/png": "[encoded data removed]",
      "text/plain": [
       "<Figure size 640x480 with 1 Axes>"
      ]
     },
     "metadata": {},
     "output_type": "display_data"
    }
   ],
   "source": [
    "sns.countplot(x=digits_label[:100]) "
   ]
  },
  {
   "cell_type": "markdown",
   "metadata": {},
   "source": [
    "importing kaggle A/Z dataset"
   ]
  },
  {
   "cell_type": "code",
   "execution_count": 8,
   "metadata": {},
   "outputs": [
    {
     "name": "stderr",
     "output_type": "stream",
     "text": [
      "  % Total    % Received % Xferd  Average Speed   Time    Time     Time  Current\n",
      "                                 Dload  Upload   Total   Spent    Left  Speed\n",
      "\n",
      "  0     0    0     0    0     0      0      0 --:--:-- --:--:-- --:--:--     0\n",
      "  0  184M    0 15059    0     0  17492      0  3:04:30 --:--:--  3:04:30 17530\n",
      "  1  184M    1 3550k    0     0  2174k      0  0:01:26  0:00:01  0:01:25 2176k\n",
      "  5  184M    5 11.0M    0     0  4414k      0  0:00:42  0:00:02  0:00:40 4417k\n",
      " 10  184M   10 18.7M    0     0  5393k      0  0:00:35  0:00:03  0:00:32 5395k\n",
      " 14  184M   14 26.0M    0     0  5846k      0  0:00:32  0:00:04  0:00:28 5848k\n",
      " 17  184M   17 33.0M    0     0  6093k      0  0:00:31  0:00:05  0:00:26 7206k\n",
      " 21  184M   21 40.2M    0     0  6278k      0  0:00:30  0:00:06  0:00:24 7637k\n",
      " 25  184M   25 46.4M    0     0  6295k      0  0:00:30  0:00:07  0:00:23 7257k\n",
      " 28  184M   28 52.4M    0     0  6282k      0  0:00:30  0:00:08  0:00:22 6915k\n",
      " 32  184M   32 59.6M    0     0  6394k      0  0:00:29  0:00:09  0:00:20 6894k\n",
      " 35  184M   35 65.6M    0     0  6367k      0  0:00:29  0:00:10  0:00:19 6670k\n",
      " 39  184M   39 72.7M    0     0  6444k      0  0:00:29  0:00:11  0:00:18 6662k\n",
      " 42  184M   42 78.2M    0     0  6380k      0  0:00:29  0:00:12  0:00:17 6509k\n",
      " 46  184M   46 85.3M    0     0  6448k      0  0:00:29  0:00:13  0:00:16 6732k\n",
      " 49  184M   49 92.2M    0     0  6490k      0  0:00:29  0:00:14  0:00:15 6673k\n",
      " 53  184M   53 98.5M    0     0  6485k      0  0:00:29  0:00:15  0:00:14 6736k\n",
      " 57  184M   57  105M    0     0  6521k      0  0:00:28  0:00:16  0:00:12 6700k\n",
      " 60  184M   60  111M    0     0  6346k      0  0:00:29  0:00:17  0:00:12 6268k\n",
      " 62  184M   62  114M    0     0  6326k      0  0:00:29  0:00:18  0:00:11 5995k\n",
      " 65  184M   65  120M    0     0  6310k      0  0:00:29  0:00:19  0:00:10 5785k\n",
      " 68  184M   68  127M    0     0  6336k      0  0:00:29  0:00:20  0:00:09 5874k\n",
      " 72  184M   72  133M    0     0  6345k      0  0:00:29  0:00:21  0:00:08 5760k\n",
      " 75  184M   75  139M    0     0  6340k      0  0:00:29  0:00:22  0:00:07 6315k\n",
      " 78  184M   78  145M    0     0  6308k      0  0:00:29  0:00:23  0:00:06 6241k\n",
      " 82  184M   82  151M    0     0  6325k      0  0:00:29  0:00:24  0:00:05 6387k\n",
      " 85  184M   85  158M    0     0  6353k      0  0:00:29  0:00:25  0:00:04 6423k\n",
      " 89  184M   89  164M    0     0  6351k      0  0:00:29  0:00:26  0:00:03 6377k\n",
      " 92  184M   92  171M    0     0  6367k      0  0:00:29  0:00:27  0:00:02 6487k\n",
      " 95  184M   95  176M    0     0  6325k      0  0:00:29  0:00:28  0:00:01 6407k\n",
      " 99  184M   99  183M    0     0  6360k      0  0:00:29  0:00:29 --:--:-- 6528k\n",
      "100  184M  100  184M    0     0  6362k      0  0:00:29  0:00:29 --:--:-- 6419k\n"
     ]
    }
   ],
   "source": [
    "!curl -O https://iaexpert.academy/arquivos/alfabeto_A-Z.zip"
   ]
  },
  {
   "cell_type": "code",
   "execution_count": 9,
   "metadata": {},
   "outputs": [],
   "source": [
    "zipObject = zipfile.ZipFile(file = \"alfabeto_A-Z.zip\",mode='r')\n",
    "zipObject.extractall('./')\n",
    "zipObject.close()"
   ]
  },
  {
   "cell_type": "code",
   "execution_count": 10,
   "metadata": {},
   "outputs": [],
   "source": [
    "datasetAZ = pd.read_csv(\"A_Z Handwritten Data.csv\").astype('float32')"
   ]
  },
  {
   "cell_type": "code",
   "execution_count": 11,
   "metadata": {},
   "outputs": [
    {
     "name": "stdout",
     "output_type": "stream",
     "text": [
      "           0  0.1  0.2  0.3  0.4  0.5  0.6  0.7  0.8  0.9  ...  0.639  0.640  \\\n",
      "0        0.0  0.0  0.0  0.0  0.0  0.0  0.0  0.0  0.0  0.0  ...    0.0    0.0   \n",
      "1        0.0  0.0  0.0  0.0  0.0  0.0  0.0  0.0  0.0  0.0  ...    0.0    0.0   \n",
      "2        0.0  0.0  0.0  0.0  0.0  0.0  0.0  0.0  0.0  0.0  ...    0.0    0.0   \n",
      "3        0.0  0.0  0.0  0.0  0.0  0.0  0.0  0.0  0.0  0.0  ...    0.0    0.0   \n",
      "4        0.0  0.0  0.0  0.0  0.0  0.0  0.0  0.0  0.0  0.0  ...    0.0    0.0   \n",
      "...      ...  ...  ...  ...  ...  ...  ...  ...  ...  ...  ...    ...    ...   \n",
      "372445  25.0  0.0  0.0  0.0  0.0  0.0  0.0  0.0  0.0  0.0  ...    0.0    0.0   \n",
      "372446  25.0  0.0  0.0  0.0  0.0  0.0  0.0  0.0  0.0  0.0  ...    0.0    0.0   \n",
      "372447  25.0  0.0  0.0  0.0  0.0  0.0  0.0  0.0  0.0  0.0  ...    0.0    0.0   \n",
      "372448  25.0  0.0  0.0  0.0  0.0  0.0  0.0  0.0  0.0  0.0  ...    0.0    0.0   \n",
      "372449  25.0  0.0  0.0  0.0  0.0  0.0  0.0  0.0  0.0  0.0  ...    0.0    0.0   \n",
      "\n",
      "        0.641  0.642  0.643  0.644  0.645  0.646  0.647  0.648  \n",
      "0         0.0    0.0    0.0    0.0    0.0    0.0    0.0    0.0  \n",
      "1         0.0    0.0    0.0    0.0    0.0    0.0    0.0    0.0  \n",
      "2         0.0    0.0    0.0    0.0    0.0    0.0    0.0    0.0  \n",
      "3         0.0    0.0    0.0    0.0    0.0    0.0    0.0    0.0  \n",
      "4         0.0    0.0    0.0    0.0    0.0    0.0    0.0    0.0  \n",
      "...       ...    ...    ...    ...    ...    ...    ...    ...  \n",
      "372445    0.0    0.0    0.0    0.0    0.0    0.0    0.0    0.0  \n",
      "372446    0.0    0.0    0.0    0.0    0.0    0.0    0.0    0.0  \n",
      "372447    0.0    0.0    0.0    0.0    0.0    0.0    0.0    0.0  \n",
      "372448    0.0    0.0    0.0    0.0    0.0    0.0    0.0    0.0  \n",
      "372449    0.0    0.0    0.0    0.0    0.0    0.0    0.0    0.0  \n",
      "\n",
      "[372450 rows x 785 columns]\n"
     ]
    }
   ],
   "source": [
    "print(datasetAZ)"
   ]
  },
  {
   "cell_type": "code",
   "execution_count": 12,
   "metadata": {},
   "outputs": [],
   "source": [
    "alphabetData = datasetAZ.drop(\n",
    "    labels='0',axis=1\n",
    ")\n",
    "alphabetLabels = datasetAZ['0']"
   ]
  },
  {
   "cell_type": "code",
   "execution_count": 13,
   "metadata": {},
   "outputs": [
    {
     "name": "stdout",
     "output_type": "stream",
     "text": [
      "(372450, 784) (372450,)\n"
     ]
    }
   ],
   "source": [
    "print(alphabetData.shape,alphabetLabels.shape)"
   ]
  },
  {
   "cell_type": "code",
   "execution_count": 14,
   "metadata": {},
   "outputs": [
    {
     "name": "stdout",
     "output_type": "stream",
     "text": [
      "0          0.0\n",
      "1          0.0\n",
      "2          0.0\n",
      "3          0.0\n",
      "4          0.0\n",
      "          ... \n",
      "372445    25.0\n",
      "372446    25.0\n",
      "372447    25.0\n",
      "372448    25.0\n",
      "372449    25.0\n",
      "Name: 0, Length: 372450, dtype: float32\n"
     ]
    }
   ],
   "source": [
    "print(alphabetLabels)"
   ]
  },
  {
   "cell_type": "code",
   "execution_count": 15,
   "metadata": {},
   "outputs": [],
   "source": [
    "alphabetData = np.reshape(alphabetData.values,(alphabetData.shape[0],28,28))"
   ]
  },
  {
   "cell_type": "code",
   "execution_count": 16,
   "metadata": {},
   "outputs": [
    {
     "name": "stdout",
     "output_type": "stream",
     "text": [
      "(372450, 28, 28)\n"
     ]
    }
   ],
   "source": [
    "print(alphabetData.shape)"
   ]
  },
  {
   "cell_type": "code",
   "execution_count": 17,
   "metadata": {},
   "outputs": [
    {
     "data": {
      "text/plain": [
       "Text(0.5, 1.0, 'CLASS: 20.0')"
      ]
     },
     "execution_count": 17,
     "metadata": {},
     "output_type": "execute_result"
    },
    {
     "data": {
      "image/png": "[encoded data removed]",
      "text/plain": [
       "<Figure size 640x480 with 1 Axes>"
      ]
     },
     "metadata": {},
     "output_type": "display_data"
    }
   ],
   "source": [
    "index = np.random.randint(0,alphabetData.shape[0])\n",
    "plt.imshow(alphabetData[index],cmap='gray')\n",
    "plt.title(\"CLASS: \"+str(alphabetLabels[index]))"
   ]
  },
  {
   "cell_type": "code",
   "execution_count": null,
   "metadata": {},
   "outputs": [],
   "source": [
    "sns.countplot(alphabetLabels.unique())"
   ]
  }
 ],
 "metadata": {
  "kernelspec": {
   "display_name": "Python 3",
   "language": "python",
   "name": "python3"
  },
  "language_info": {
   "codemirror_mode": {
    "name": "ipython",
    "version": 3
   },
   "file_extension": ".py",
   "mimetype": "text/x-python",
   "name": "python",
   "nbconvert_exporter": "python",
   "pygments_lexer": "ipython3",
   "version": "3.10.2"
  }
 },
 "nbformat": 4,
 "nbformat_minor": 2
}
